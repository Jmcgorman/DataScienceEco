{
 "cells": [
  {
   "cell_type": "markdown",
   "id": "f2d965e1",
   "metadata": {},
   "source": [
    "# Data Science Tools and Ecosystem"
   ]
  },
  {
   "cell_type": "markdown",
   "id": "7406de40",
   "metadata": {},
   "source": [
    "In this notebook, Data Science Tools and Ecosystem are summarized"
   ]
  },
  {
   "cell_type": "markdown",
   "id": "ab614c4f",
   "metadata": {},
   "source": [
    "**Objectives:** \n",
    "- List popular languages\n",
    "- Commonly used libraries \n",
    "- Data Science Tools \n",
    "- Arithmetic Expressions"
   ]
  },
  {
   "cell_type": "markdown",
   "id": "8d77f519",
   "metadata": {},
   "source": [
    "Some of the popular languages that Data Scientists use are:\n",
    "1. Python\n",
    "2. R\n",
    "3. Java"
   ]
  },
  {
   "cell_type": "markdown",
   "id": "df3f7ff7",
   "metadata": {},
   "source": [
    "Some of the commonly used libraries used by Data Scientists include:\n",
    "1. Scala\n",
    "2. Apache Spark\n",
    "3. Matplotlib\n"
   ]
  },
  {
   "cell_type": "markdown",
   "id": "a74ab01b",
   "metadata": {},
   "source": [
    "|**Data Science Tools**|\n",
    "|----------------------|\n",
    "| Jupyter Lab          |\n",
    "| RStudio              |\n",
    "| GitHub               |\n"
   ]
  },
  {
   "cell_type": "markdown",
   "id": "98dc106b",
   "metadata": {},
   "source": [
    "### Below are a few examples of evaluating arithmetic expressions in Python"
   ]
  },
  {
   "cell_type": "code",
   "execution_count": 2,
   "id": "02262537",
   "metadata": {},
   "outputs": [
    {
     "data": {
      "text/plain": [
       "17"
      ]
     },
     "execution_count": 2,
     "metadata": {},
     "output_type": "execute_result"
    }
   ],
   "source": [
    "# This is a simple arithmetic expression to multiply then add integers #\n",
    "(3*4)+5\n"
   ]
  },
  {
   "cell_type": "code",
   "execution_count": 5,
   "id": "41e9ff15",
   "metadata": {},
   "outputs": [
    {
     "name": "stdout",
     "output_type": "stream",
     "text": [
      "3.3333333333333335 hours\n"
     ]
    }
   ],
   "source": [
    "# This will convert 200 minutes to hours by dividing by 60 #\n",
    "\n",
    "x = 200;\n",
    "y = 200/60;\n",
    "\n",
    "print(y ,\"hours\")\n"
   ]
  },
  {
   "cell_type": "markdown",
   "id": "78e40037",
   "metadata": {},
   "source": [
    "## Author\n",
    "**Jacob M**"
   ]
  },
  {
   "cell_type": "code",
   "execution_count": null,
   "id": "9fb820c0",
   "metadata": {},
   "outputs": [],
   "source": []
  }
 ],
 "metadata": {
  "kernelspec": {
   "display_name": "Python 3 (ipykernel)",
   "language": "python",
   "name": "python3"
  },
  "language_info": {
   "codemirror_mode": {
    "name": "ipython",
    "version": 3
   },
   "file_extension": ".py",
   "mimetype": "text/x-python",
   "name": "python",
   "nbconvert_exporter": "python",
   "pygments_lexer": "ipython3",
   "version": "3.10.11"
  }
 },
 "nbformat": 4,
 "nbformat_minor": 5
}
